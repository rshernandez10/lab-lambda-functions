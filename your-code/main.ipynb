{
  "nbformat": 4,
  "nbformat_minor": 0,
  "metadata": {
    "kernelspec": {
      "display_name": "Python 3",
      "language": "python",
      "name": "python3"
    },
    "language_info": {
      "codemirror_mode": {
        "name": "ipython",
        "version": 3
      },
      "file_extension": ".py",
      "mimetype": "text/x-python",
      "name": "python",
      "nbconvert_exporter": "python",
      "pygments_lexer": "ipython3",
      "version": "3.7.3"
    },
    "colab": {
      "name": "main.ipynb",
      "provenance": []
    }
  },
  "cells": [
    {
      "cell_type": "markdown",
      "metadata": {
        "id": "eBbkD1gb7lgK",
        "colab_type": "text"
      },
      "source": [
        "# Before your start:\n",
        "- Read the README.md file\n",
        "- Comment as much as you can and use the resources in the README.md file\n",
        "- Happy learning!"
      ]
    },
    {
      "cell_type": "markdown",
      "metadata": {
        "id": "a-z6Cs0E7lgL",
        "colab_type": "text"
      },
      "source": [
        "# Challenge 1 - Passing a Lambda Expression to a Function\n",
        "\n",
        "In the next excercise you will create a function that returns a lambda expression. Create a function called `modify_list`. The function takes two arguments, a list and a lambda expression. The function iterates through the list and applies the lambda expression to every element in the list."
      ]
    },
    {
      "cell_type": "markdown",
      "metadata": {
        "id": "79oVFTMa7lgM",
        "colab_type": "raw"
      },
      "source": [
        "Follow the steps as stated below:\n",
        "    1. Define a list of any 10 numbers\n",
        "    2. Define a simple lambda expression for eg that updates a number by 2\n",
        "    3. Define an empty list\n",
        "    4. Define the function -> use the lambda function to append the empty list\n",
        "    5. Call the function with list and lambda expression\n",
        "    6. print the updated list  "
      ]
    },
    {
      "cell_type": "code",
      "metadata": {
        "id": "RX_l8ANz7lgM",
        "colab_type": "code",
        "outputId": "36580114-f40f-41e1-dd8e-1d8121c0ae58",
        "colab": {
          "base_uri": "https://localhost:8080/",
          "height": 34
        }
      },
      "source": [
        "l = [1,20,32,40,25,20,15,2,18,23]\n",
        "f = lambda x: x * 2\n",
        "b = []\n",
        "def modify_list(lst, fudduLambda):\n",
        "    for x in lst:\n",
        "        b.append(fudduLambda(x))\n",
        "    return b\n",
        "#Call modify_list(##,##)\n",
        "modify_list(l,f)\n",
        "#print b\n",
        "print(b)"
      ],
      "execution_count": 77,
      "outputs": [
        {
          "output_type": "stream",
          "text": [
            "[2, 40, 64, 80, 50, 40, 30, 4, 36, 46]\n"
          ],
          "name": "stdout"
        }
      ]
    },
    {
      "cell_type": "markdown",
      "metadata": {
        "id": "6YZVPcfA7lgQ",
        "colab_type": "text"
      },
      "source": [
        "#### Now we will define a lambda expression that will transform the elements of the list. \n",
        "\n",
        "In the cell below, create a lambda expression that converts Celsius to Kelvin. Recall that 0°C + 273.15 = 273.15K"
      ]
    },
    {
      "cell_type": "code",
      "metadata": {
        "id": "2K4y8pfG7lgR",
        "colab_type": "code",
        "outputId": "41cf7955-0024-463b-ec8d-b5d0a3c9b363",
        "colab": {
          "base_uri": "https://localhost:8080/",
          "height": 34
        }
      },
      "source": [
        "# Your code here:\n",
        "\n",
        "nueva = list(filter(lambda x: type(x) is int,lista))\n",
        "\n",
        "kelvin=list(map(lambda c: c+273.15,nueva))\n",
        "\n",
        "print(kelvin)\n"
      ],
      "execution_count": 78,
      "outputs": [
        {
          "output_type": "stream",
          "text": [
            "[273.15, 293.15, 305.15, 313.15, 298.15, 293.15, 288.15, 275.15, 291.15, 296.15]\n"
          ],
          "name": "stdout"
        }
      ]
    },
    {
      "cell_type": "markdown",
      "metadata": {
        "id": "hEoLvhvh7lgU",
        "colab_type": "text"
      },
      "source": [
        "Finally, convert the list of temperatures below from Celsius to Kelvin."
      ]
    },
    {
      "cell_type": "code",
      "metadata": {
        "id": "KrX2ipks7lgV",
        "colab_type": "code",
        "outputId": "57c03d50-9380-46e0-9895-1a215073f21a",
        "colab": {
          "base_uri": "https://localhost:8080/",
          "height": 34
        }
      },
      "source": [
        "temps = [12, 23, 38, -55, 24]\n",
        "\n",
        "# Your code here:\n",
        "nueva = list(filter(lambda x: type(x) is int,temps))\n",
        "\n",
        "kelvin=list(map(lambda c: c+273.15,nueva))\n",
        "\n",
        "print(kelvin)"
      ],
      "execution_count": 79,
      "outputs": [
        {
          "output_type": "stream",
          "text": [
            "[285.15, 296.15, 311.15, 218.14999999999998, 297.15]\n"
          ],
          "name": "stdout"
        }
      ]
    },
    {
      "cell_type": "markdown",
      "metadata": {
        "id": "SF7L6rQB7lgY",
        "colab_type": "text"
      },
      "source": [
        "#### In this part, we will define a function that returns a lambda expression\n",
        "\n",
        "In the cell below, write a lambda expression that takes two numbers and returns 1 if one is divisible by the other and zero otherwise. Call the lambda expression `mod`."
      ]
    },
    {
      "cell_type": "code",
      "metadata": {
        "id": "MV_Vji997lgY",
        "colab_type": "code",
        "colab": {
          "base_uri": "https://localhost:8080/",
          "height": 34
        },
        "outputId": "c8288201-50d4-4c5d-f763-9831b47efb4c"
      },
      "source": [
        "# Your code here:\n",
        "\n",
        "mod = lambda x, y: 1 if x % y == 0 else 0\n",
        "\n",
        "print(mod(10,2))"
      ],
      "execution_count": 99,
      "outputs": [
        {
          "output_type": "stream",
          "text": [
            "1\n"
          ],
          "name": "stdout"
        }
      ]
    },
    {
      "cell_type": "markdown",
      "metadata": {
        "id": "IA5QgN747lgb",
        "colab_type": "text"
      },
      "source": [
        "#### Now create a function that returns mod. The function only takes one argument - the first number in the `mod` lambda function. \n",
        "\n",
        "Note: the lambda function above took two arguments, the lambda function in the return statement only takes one argument but also uses the argument passed to the function."
      ]
    },
    {
      "cell_type": "code",
      "metadata": {
        "id": "23USAhsA7lgb",
        "colab_type": "code",
        "colab": {}
      },
      "source": [
        "def divisor(b):\n",
        "    \"\"\"\n",
        "    input: a number\n",
        "    output: a function that returns 1 if the number is divisible by another number (to be passed later) and zero otherwise\n",
        "    \"\"\"\n",
        "    # Your code here:\n",
        "\n",
        "    return mod ((8,b))"
      ],
      "execution_count": 0,
      "outputs": []
    },
    {
      "cell_type": "markdown",
      "metadata": {
        "id": "xUxXzSRT7lge",
        "colab_type": "text"
      },
      "source": [
        "Finally, pass the number 5 to `divisor`. Now the function will check whether a number is divisble by 5. Assign this function to `divisible5`"
      ]
    },
    {
      "cell_type": "code",
      "metadata": {
        "id": "aiZLntTZ7lge",
        "colab_type": "code",
        "colab": {
          "base_uri": "https://localhost:8080/",
          "height": 34
        },
        "outputId": "1b44996d-b5ef-4504-860c-4ee27df3a27d"
      },
      "source": [
        "# Your code here:\n",
        "def divisible5(x):\n",
        "    return mod(x, 5)\n",
        "divisible5(15)"
      ],
      "execution_count": 86,
      "outputs": [
        {
          "output_type": "execute_result",
          "data": {
            "text/plain": [
              "1"
            ]
          },
          "metadata": {
            "tags": []
          },
          "execution_count": 86
        }
      ]
    },
    {
      "cell_type": "markdown",
      "metadata": {
        "id": "ZuZZXkvQ7lgh",
        "colab_type": "text"
      },
      "source": [
        "Test your function with the following test cases:"
      ]
    },
    {
      "cell_type": "code",
      "metadata": {
        "id": "ceUDKF9n7lgh",
        "colab_type": "code",
        "colab": {
          "base_uri": "https://localhost:8080/",
          "height": 34
        },
        "outputId": "2cd43fe9-184d-4aff-af92-8063b27e2464"
      },
      "source": [
        "divisible5(10)"
      ],
      "execution_count": 87,
      "outputs": [
        {
          "output_type": "execute_result",
          "data": {
            "text/plain": [
              "1"
            ]
          },
          "metadata": {
            "tags": []
          },
          "execution_count": 87
        }
      ]
    },
    {
      "cell_type": "code",
      "metadata": {
        "id": "eOiMGymh7lgk",
        "colab_type": "code",
        "colab": {
          "base_uri": "https://localhost:8080/",
          "height": 34
        },
        "outputId": "e8e6b6ef-c72e-463a-bbc0-5feac9a0b39f"
      },
      "source": [
        "divisible5(8)"
      ],
      "execution_count": 88,
      "outputs": [
        {
          "output_type": "execute_result",
          "data": {
            "text/plain": [
              "0"
            ]
          },
          "metadata": {
            "tags": []
          },
          "execution_count": 88
        }
      ]
    },
    {
      "cell_type": "markdown",
      "metadata": {
        "id": "SbTL7vkq7lgo",
        "colab_type": "text"
      },
      "source": [
        "# Challenge 2 - Using Lambda Expressions in List Comprehensions\n",
        "\n",
        "In the following challenge, we will combine two lists using a lambda expression in a list comprehension. \n",
        "\n",
        "To do this, we will need to introduce the `zip` function. The `zip` function returns an iterator of tuples.\n",
        "\n",
        "The way zip function works with list has been shown below:"
      ]
    },
    {
      "cell_type": "code",
      "metadata": {
        "id": "mQxF3ZqR7lgo",
        "colab_type": "code",
        "colab": {}
      },
      "source": [
        "list1 = ['Green', 'cheese', 'English', 'tomato']\n",
        "list2 = ['eggs', 'cheese', 'cucumber', 'tomato']\n",
        "zipped = zip(list1,list2)\n",
        "list(zipped)"
      ],
      "execution_count": 0,
      "outputs": []
    },
    {
      "cell_type": "markdown",
      "metadata": {
        "id": "0202cqlm7lgu",
        "colab_type": "text"
      },
      "source": [
        "In this exercise we will try to compare the elements on the same index in the two lists. \n",
        "We want to zip the two lists and then use a lambda expression to compare if:\n",
        "list1 element > list2 element "
      ]
    },
    {
      "cell_type": "code",
      "metadata": {
        "id": "jvX8Dw6u7lgu",
        "colab_type": "code",
        "outputId": "57a1f4ae-8ad3-4558-f532-d0c6ec095c7d",
        "colab": {
          "base_uri": "https://localhost:8080/",
          "height": 34
        }
      },
      "source": [
        "list11 = [1,2,3,4]\n",
        "list21 = [2,3,4,5]\n",
        "## Zip the lists together \n",
        "zipped2 = list(zip(list11, list21))\n",
        "## Print the zipped list \n",
        "list(zipped2)"
      ],
      "execution_count": 93,
      "outputs": [
        {
          "output_type": "execute_result",
          "data": {
            "text/plain": [
              "[(1, 2), (2, 3), (3, 4), (4, 5)]"
            ]
          },
          "metadata": {
            "tags": []
          },
          "execution_count": 93
        }
      ]
    },
    {
      "cell_type": "markdown",
      "metadata": {
        "id": "V9FUN-pt7lgw",
        "colab_type": "raw"
      },
      "source": [
        "Complete the parts of the code marked as \"###\""
      ]
    },
    {
      "cell_type": "code",
      "metadata": {
        "id": "1BheCXTU7lgx",
        "colab_type": "code",
        "outputId": "857533d0-ba3b-4d72-8e70-ca63a44582c7",
        "colab": {
          "base_uri": "https://localhost:8080/",
          "height": 128
        }
      },
      "source": [
        "resultado = []\n",
        "compare = lambda x, y: print(\"True\") if x>y else print(\"False\")\n",
        "for i in zipped2:\n",
        "  resultado.append(compare(i[0,i[1]])\n",
        "print (resultado)  "
      ],
      "execution_count": 98,
      "outputs": [
        {
          "output_type": "error",
          "ename": "SyntaxError",
          "evalue": "ignored",
          "traceback": [
            "\u001b[0;36m  File \u001b[0;32m\"<ipython-input-99-929bca38813b>\"\u001b[0;36m, line \u001b[0;32m5\u001b[0m\n\u001b[0;31m    print (resultado)\u001b[0m\n\u001b[0m        ^\u001b[0m\n\u001b[0;31mSyntaxError\u001b[0m\u001b[0;31m:\u001b[0m invalid syntax\n"
          ]
        }
      ]
    },
    {
      "cell_type": "markdown",
      "metadata": {
        "id": "XEJd60gC7lgz",
        "colab_type": "text"
      },
      "source": [
        "# Challenge 3 - Using Lambda Expressions as Arguments\n",
        "\n",
        "#### In this challenge, we will zip together two lists and sort by the resulting tuple.\n",
        "\n",
        "In the cell below, take the two lists provided, zip them together and sort by the first letter of the second element of each tuple. Do this using a lambda function."
      ]
    },
    {
      "cell_type": "code",
      "metadata": {
        "id": "6RcxXm767lgz",
        "colab_type": "code",
        "colab": {
          "base_uri": "https://localhost:8080/",
          "height": 54
        },
        "outputId": "926bb524-6570-4d00-e340-f2ed8c8468d2"
      },
      "source": [
        "list1 = ['Engineering', 'Computer Science', 'Political Science', 'Mathematics']\n",
        "list2 = ['Lab', 'Homework', 'Essay', 'Module']\n",
        "\n",
        "# Your code here:\n",
        "zipped3 = zip(list1, list2)\n",
        "#list(zipped3)\n",
        "\n",
        "def ordenar_elemento(x):\n",
        "  return sorted(x,key=lambda tup:tup[1])\n",
        "print(ordenar_elemento(zipped3))"
      ],
      "execution_count": 92,
      "outputs": [
        {
          "output_type": "stream",
          "text": [
            "[('Political Science', 'Essay'), ('Computer Science', 'Homework'), ('Engineering', 'Lab'), ('Mathematics', 'Module')]\n"
          ],
          "name": "stdout"
        }
      ]
    },
    {
      "cell_type": "markdown",
      "metadata": {
        "id": "J7jN9rlq7lg2",
        "colab_type": "text"
      },
      "source": [
        "# Bonus Challenge - Sort a Dictionary by Values\n",
        "\n",
        "Given the dictionary below, sort it by values rather than by keys. Use a lambda function to specify the values as a sorting key."
      ]
    },
    {
      "cell_type": "code",
      "metadata": {
        "id": "BXaO8eEm7lg3",
        "colab_type": "code",
        "colab": {}
      },
      "source": [
        "d = {'Honda': 1997, 'Toyota': 1995, 'Audi': 2001, 'BMW': 2005}\n",
        "\n",
        "# Your code here:"
      ],
      "execution_count": 0,
      "outputs": []
    },
    {
      "cell_type": "code",
      "metadata": {
        "id": "w87s5AJK7lg5",
        "colab_type": "code",
        "colab": {
          "base_uri": "https://localhost:8080/",
          "height": 34
        },
        "outputId": "41894c6e-d084-4c9e-f877-882c70c6149d"
      },
      "source": [
        "def ordenar_d(x):\n",
        "  return sorted(x,key=lambda dic:dic[1])\n",
        "print(ordenar_d(d))"
      ],
      "execution_count": 91,
      "outputs": [
        {
          "output_type": "stream",
          "text": [
            "['BMW', 'Honda', 'Toyota', 'Audi']\n"
          ],
          "name": "stdout"
        }
      ]
    }
  ]
}